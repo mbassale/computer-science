{
 "cells": [
  {
   "cell_type": "markdown",
   "metadata": {},
   "source": [
    "# Imports"
   ]
  },
  {
   "cell_type": "code",
   "execution_count": 32,
   "metadata": {},
   "outputs": [],
   "source": [
    "import numpy as np\n",
    "import matplotlib.pyplot as plt\n",
    "import datetime\n",
    "\n",
    "import torch\n",
    "import torch.optim as optim\n",
    "import torch.nn as nn\n",
    "import torch.functional as F\n",
    "from torch.utils.data import DataLoader, TensorDataset, random_split\n",
    "from torch.utils.tensorboard import SummaryWriter\n",
    "\n",
    "%matplotlib inline\n",
    "plt.style.use('fivethirtyeight')"
   ]
  },
  {
   "cell_type": "markdown",
   "metadata": {},
   "source": [
    "# Model Class"
   ]
  },
  {
   "cell_type": "code",
   "execution_count": 33,
   "metadata": {},
   "outputs": [],
   "source": [
    "class SimpleTrainingProcess(object):\n",
    "    def __init__(self, model, loss_fn, optimizer):\n",
    "        # model and training\n",
    "        self.model = model\n",
    "        self.loss_fn = loss_fn\n",
    "        self.optimizer = optimizer\n",
    "        self.device = self._detect_device()\n",
    "        print(f\"Device: {self.device}\")\n",
    "        self.model.to(self.device)\n",
    "\n",
    "        # data\n",
    "        self.train_loader = None\n",
    "        self.validation_loader = None\n",
    "        self.writer = None\n",
    "\n",
    "        # metrics\n",
    "        self.losses = []\n",
    "        self.validation_losses = []\n",
    "        self.total_epochs = 0\n",
    "\n",
    "        # functions\n",
    "        self.train_step_fn = self._make_train_step_fn()\n",
    "        self.validation_step_fn = self._make_validation_step_fn()\n",
    "\n",
    "    def to(self, device):\n",
    "        try:\n",
    "            self.device = device\n",
    "            self.model.to(device)\n",
    "        except RuntimeError:\n",
    "            self.device = self._detect_device()\n",
    "            print(f\"Device {device} not available. Using {self.device} instead.\")\n",
    "            self.model.to(self.device)\n",
    "\n",
    "    def set_loaders(self, train_loader, validation_loader=None):\n",
    "        self.train_loader = train_loader\n",
    "        self.validation_loader = validation_loader\n",
    "\n",
    "    def set_tensorboard(self, name, folder=\"runs\"):\n",
    "        self.writer = SummaryWriter(log_dir=f\"{folder}/{name}\")\n",
    "\n",
    "    def _detect_device(self):\n",
    "        if torch.cuda.is_available():\n",
    "            return torch.device(\"cuda\")\n",
    "        elif torch.backends.mps.is_available():\n",
    "            return torch.device(\"mps\")\n",
    "        else:\n",
    "            return torch.device(\"cpu\")\n",
    "\n",
    "    # Higher order function for training\n",
    "    def _make_train_step_fn(self):\n",
    "        def train_step_fn(x, y):\n",
    "            # set model to train mode\n",
    "            self.model.train()\n",
    "\n",
    "            # forward pass\n",
    "            yhat = self.model(x)\n",
    "\n",
    "            # compute loss\n",
    "            loss = self.loss_fn(yhat, y)\n",
    "\n",
    "            # compute gradients\n",
    "            loss.backward()\n",
    "\n",
    "            # update parameters\n",
    "            self.optimizer.step()\n",
    "            self.optimizer.zero_grad()\n",
    "\n",
    "            return loss.item()\n",
    "\n",
    "        return train_step_fn\n",
    "\n",
    "    # Higher order function for validation\n",
    "    def _make_validation_step_fn(self):\n",
    "        def validation_step_fn(x, y):\n",
    "            # set model to eval mode\n",
    "            self.model.eval()\n",
    "\n",
    "            # forward pass\n",
    "            yhat = self.model(x)\n",
    "\n",
    "            # compute loss\n",
    "            loss = self.loss_fn(yhat, y)\n",
    "\n",
    "            return loss.item()\n",
    "\n",
    "        return validation_step_fn\n",
    "\n",
    "    def _mini_batch(self, validation=False):\n",
    "        if validation:\n",
    "            data_loader = self.validation_loader\n",
    "            step_fn = self.validation_step_fn\n",
    "        else:\n",
    "            data_loader = self.train_loader\n",
    "            step_fn = self.train_step_fn\n",
    "\n",
    "        # mini-batch loop\n",
    "        mini_batch_losses = []\n",
    "        for x_batch, y_batch in data_loader:\n",
    "            x_batch = x_batch.to(self.device)\n",
    "            y_batch = y_batch.to(self.device)\n",
    "\n",
    "            mini_batch_loss = step_fn(x_batch, y_batch)\n",
    "            mini_batch_losses.append(mini_batch_loss)\n",
    "\n",
    "        loss = np.mean(mini_batch_losses)\n",
    "        return loss\n",
    "\n",
    "    def set_seed(self, seed=42):\n",
    "        torch.backends.cudnn.deterministic = True\n",
    "        torch.backends.cudnn.benchmark = False\n",
    "        torch.manual_seed(seed)\n",
    "        np.random.seed(seed)\n",
    "\n",
    "    def train(self, n_epochs, seed=42):\n",
    "        self.set_seed(seed)\n",
    "        for epoch in range(n_epochs):\n",
    "            self.total_epochs += 1\n",
    "\n",
    "            # inner loop\n",
    "            loss = self._mini_batch(validation=False)\n",
    "            self.losses.append(loss)\n",
    "\n",
    "            # validation\n",
    "            with torch.no_grad():\n",
    "                # perform evaluation\n",
    "                validation_loss = self._mini_batch(validation=True)\n",
    "                self.validation_losses.append(validation_loss)\n",
    "\n",
    "            # SummaryWriter for Tensorboard\n",
    "            if self.writer:\n",
    "                scalars = {\"training\": loss}\n",
    "                if validation_loss is not None:\n",
    "                    scalars.update({\"validation\": validation_loss})\n",
    "                # record both losses under tag \"loss\"\n",
    "                self.writer.add_scalars(\n",
    "                    main_tag=\"loss\", tag_scalar_dict=scalars, global_step=epoch\n",
    "                )\n",
    "\n",
    "        # write events to disk\n",
    "        if self.writer:\n",
    "            self.writer.flush()\n",
    "\n",
    "    def save_checkpoint(self, filename):\n",
    "        # builds state dictionary\n",
    "        checkpoint = {\n",
    "            \"epoch\": self.total_epochs,\n",
    "            \"model_state_dict\": self.model.state_dict(),\n",
    "            \"optimizer_state_dict\": self.optimizer.state_dict(),\n",
    "            \"loss\": self.losses,\n",
    "            \"validation_loss\": self.validation_losses,\n",
    "        }\n",
    "        torch.save(checkpoint, filename)\n",
    "\n",
    "    def load_checkpoint(self, filename):\n",
    "        # loads state dictionary\n",
    "        checkpoint = torch.load(filename)\n",
    "\n",
    "        self.model.load_state_dict(checkpoint[\"model_state_dict\"])\n",
    "        self.optimizer.load_state_dict(checkpoint[\"optimizer_state_dict\"])\n",
    "        self.total_epochs = checkpoint[\"epoch\"]\n",
    "        self.losses = checkpoint[\"loss\"]\n",
    "        self.validation_losses = checkpoint[\"validation_loss\"]\n",
    "        # resume training\n",
    "        self.model.train()\n",
    "\n",
    "    def predict(self, x):\n",
    "        # set model to eval mode\n",
    "        self.model.eval()\n",
    "\n",
    "        # numpy to tensor\n",
    "        x_tensor = torch.as_tensor(x).float()\n",
    "\n",
    "        # forward pass\n",
    "        y_hat_tensor = self.model(x_tensor.to(self.device))\n",
    "\n",
    "        # back to train mode\n",
    "        self.model.train()\n",
    "\n",
    "        return y_hat_tensor.detach().cpu().numpy()\n",
    "\n",
    "    def plot_losses(self):\n",
    "        plt.figure(figsize=(10, 4))\n",
    "        plt.plot(self.losses, label=\"Training Loss\", c=\"b\")\n",
    "        if self.validation_losses:\n",
    "            plt.plot(self.validation_losses, label=\"Validation Loss\", c=\"r\")\n",
    "        plt.yscale(\"log\")\n",
    "        plt.xlabel(\"Epochs\")\n",
    "        plt.ylabel(\"Loss\")\n",
    "        plt.legend()\n",
    "        plt.title(\"Train Process\")\n",
    "        plt.tight_layout()\n",
    "\n",
    "    def add_graph(self):\n",
    "        if self.train_loader and self.writer:\n",
    "            x_dummy, _ = next(iter(self.train_loader))\n",
    "            self.writer.add_graph(self.model, x_dummy.to(self.device))"
   ]
  },
  {
   "cell_type": "markdown",
   "metadata": {},
   "source": [
    "# Data Generation"
   ]
  },
  {
   "cell_type": "code",
   "execution_count": 34,
   "metadata": {},
   "outputs": [
    {
     "data": {
      "text/plain": [
       "(tensor([[0.0903],\n",
       "         [0.0344],\n",
       "         [0.4402],\n",
       "         [0.1560],\n",
       "         [0.2809]]),\n",
       " tensor([[1.2488],\n",
       "         [1.0861],\n",
       "         [1.9659],\n",
       "         [1.3594],\n",
       "         [1.4846]]))"
      ]
     },
     "metadata": {},
     "output_type": "display_data"
    }
   ],
   "source": [
    "# Syntetic Data Generation\n",
    "true_b = 1\n",
    "true_w = 2\n",
    "N = 200\n",
    "\n",
    "x = np.random.rand(N, 1)\n",
    "epsilon = 0.1 * np.random.randn(N, 1)\n",
    "y = true_b + true_w * x + epsilon\n",
    "\n",
    "x_tensor = torch.as_tensor(x).float()\n",
    "y_tensor = torch.as_tensor(y).float()\n",
    "# All data points\n",
    "dataset = TensorDataset(x_tensor, y_tensor)\n",
    "\n",
    "# Generates train and validation sets\n",
    "ratio = 0.8\n",
    "n_total = len(dataset)\n",
    "n_train = int(n_total * ratio)\n",
    "n_validation = n_total - n_train\n",
    "train_data, validation_data = random_split(dataset, [n_train, n_validation])\n",
    "display(train_data[:5])\n",
    "\n",
    "# Data Loaders\n",
    "train_loader = DataLoader(dataset=train_data, batch_size=16, shuffle=True)\n",
    "validation_loader = DataLoader(dataset=validation_data, batch_size=16)"
   ]
  },
  {
   "cell_type": "code",
   "execution_count": 35,
   "metadata": {},
   "outputs": [
    {
     "name": "stdout",
     "output_type": "stream",
     "text": [
      "Device: mps\n"
     ]
    },
    {
     "data": {
      "text/plain": [
       "OrderedDict([('0.weight', tensor([[1.9869]], device='mps:0')),\n",
       "             ('0.bias', tensor([1.0133], device='mps:0'))])"
      ]
     },
     "metadata": {},
     "output_type": "display_data"
    },
    {
     "data": {
      "text/plain": [
       "200"
      ]
     },
     "metadata": {},
     "output_type": "display_data"
    },
    {
     "data": {
      "image/png": "[encoded data removed]",
      "text/plain": [
       "<Figure size 1000x400 with 1 Axes>"
      ]
     },
     "metadata": {},
     "output_type": "display_data"
    }
   ],
   "source": [
    "lr = 0.1\n",
    "\n",
    "torch.manual_seed(42)\n",
    "\n",
    "# linear regression model\n",
    "model = nn.Sequential(nn.Linear(1, 1))\n",
    "# optimizer\n",
    "optimizer = optim.SGD(model.parameters(), lr=lr)\n",
    "# MSE Loss Fn\n",
    "loss_fn = nn.MSELoss(reduction=\"mean\")\n",
    "\n",
    "stp = SimpleTrainingProcess(model, loss_fn, optimizer)\n",
    "stp.set_loaders(train_loader, validation_loader)\n",
    "stp.set_tensorboard(\"ch2_1\")\n",
    "stp.train(n_epochs=200)\n",
    "display(model.state_dict())\n",
    "display(stp.total_epochs)\n",
    "\n",
    "stp.plot_losses()\n",
    "plt.show()"
   ]
  },
  {
   "cell_type": "markdown",
   "metadata": {},
   "source": [
    "# Making Predictions"
   ]
  },
  {
   "cell_type": "code",
   "execution_count": 37,
   "metadata": {},
   "outputs": [
    {
     "data": {
      "text/plain": [
       "array([[0.5],\n",
       "       [0.3],\n",
       "       [0.7]])"
      ]
     },
     "execution_count": 37,
     "metadata": {},
     "output_type": "execute_result"
    }
   ],
   "source": [
    "new_data = np.array([.5, .3, .7]).reshape(-1, 1)\n",
    "new_data"
   ]
  },
  {
   "cell_type": "code",
   "execution_count": 38,
   "metadata": {},
   "outputs": [
    {
     "data": {
      "text/plain": [
       "array([[2.0067534],\n",
       "       [1.6093805],\n",
       "       [2.4041266]], dtype=float32)"
      ]
     },
     "execution_count": 38,
     "metadata": {},
     "output_type": "execute_result"
    }
   ],
   "source": [
    "predictions = stp.predict(new_data)\n",
    "predictions"
   ]
  }
 ],
 "metadata": {
  "kernelspec": {
   "display_name": "pytorchbook",
   "language": "python",
   "name": "python3"
  },
  "language_info": {
   "codemirror_mode": {
    "name": "ipython",
    "version": 3
   },
   "file_extension": ".py",
   "mimetype": "text/x-python",
   "name": "python",
   "nbconvert_exporter": "python",
   "pygments_lexer": "ipython3",
   "version": "3.12.2"
  }
 },
 "nbformat": 4,
 "nbformat_minor": 2
}
